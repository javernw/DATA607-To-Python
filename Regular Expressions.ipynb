{
 "cells": [
  {
   "cell_type": "code",
   "execution_count": 17,
   "metadata": {},
   "outputs": [],
   "source": [
    "import re\n",
    "import random\n",
    "import string"
   ]
  },
  {
   "cell_type": "code",
   "execution_count": 2,
   "metadata": {},
   "outputs": [
    {
     "data": {
      "text/plain": [
       "'555-1239Moe Szyslak(636) 555-0113Burns, C. Montgomery555 -6542Rev. Timothy Lovejoy555 8904Ned Flanders636-555-3226Simpson, Homer5553642Dr. Julius Hibbert'"
      ]
     },
     "execution_count": 2,
     "metadata": {},
     "output_type": "execute_result"
    }
   ],
   "source": [
    "raw_data = \"555-1239Moe Szyslak(636) 555-0113Burns, C. Montgomery555 -6542Rev. Timothy Lovejoy555 8904Ned Flanders636-555-3226Simpson, Homer5553642Dr. Julius Hibbert\"\n",
    "raw_data"
   ]
  },
  {
   "cell_type": "markdown",
   "metadata": {},
   "source": [
    "### Extract all names"
   ]
  },
  {
   "cell_type": "code",
   "execution_count": 3,
   "metadata": {},
   "outputs": [
    {
     "data": {
      "text/plain": [
       "\"['Moe Szyslak', 'Burns, C. Montgomery', 'Rev. Timothy Lovejoy', 'Ned Flanders', 'Simpson, Homer', 'Dr. Julius Hibbert']\""
      ]
     },
     "execution_count": 3,
     "metadata": {},
     "output_type": "execute_result"
    }
   ],
   "source": [
    "names = re.findall(\"[A-Za-z\\.\\,\\s]{2,}\", raw_data) # returns a list\n",
    "names = str(names) # convert list to string\n",
    "names\n"
   ]
  },
  {
   "cell_type": "markdown",
   "metadata": {},
   "source": [
    "### Rearrange names to conform to firstname_lastname standard"
   ]
  },
  {
   "cell_type": "code",
   "execution_count": 5,
   "metadata": {},
   "outputs": [
    {
     "name": "stdout",
     "output_type": "stream",
     "text": [
      "['Moe ', 'C. Montgomery', 'Timothy ', 'Ned ', ' Homer', 'Julius ']\n"
     ]
    }
   ],
   "source": [
    "#first names\n",
    "first_names = re.findall(\"([A-Za-z]+ |[A-Z]\\. [A-Za-z]+| [Ha-z]+)\", names)\n",
    "print(first_names)\n"
   ]
  },
  {
   "cell_type": "code",
   "execution_count": 6,
   "metadata": {},
   "outputs": [
    {
     "name": "stdout",
     "output_type": "stream",
     "text": [
      "['Szyslak', 'Burns', 'Lovejoy', 'Flanders', 'Simpson', 'Hibbert']\n"
     ]
    }
   ],
   "source": [
    "# last names\n",
    "last_names = re.findall(\"([A-Za-z]+]|[A-Za-z]+'|[A-Za-z]+,)\", names)\n",
    "last_names = str(last_names)\n",
    "last_names = re.findall(\"[SBLF][a-z]+|[H][a-z]{6,}\", last_names)\n",
    "print(last_names )"
   ]
  },
  {
   "cell_type": "code",
   "execution_count": 7,
   "metadata": {},
   "outputs": [
    {
     "name": "stdout",
     "output_type": "stream",
     "text": [
      "Moe  Szyslak\n",
      "C. Montgomery Burns\n",
      "Timothy  Lovejoy\n",
      "Ned  Flanders\n",
      " Homer Simpson\n",
      "Julius  Hibbert\n"
     ]
    }
   ],
   "source": [
    "#first+last names\n",
    "for f,l in zip(first_names, last_names):\n",
    "   print(f, l)"
   ]
  },
  {
   "cell_type": "markdown",
   "metadata": {},
   "source": [
    "### Describe the types of strings that conform to the following regular expressions and construct an example that is matched by the regular expression."
   ]
  },
  {
   "cell_type": "markdown",
   "metadata": {},
   "source": [
    "#### [0-9]+\\$"
   ]
  },
  {
   "cell_type": "code",
   "execution_count": 13,
   "metadata": {},
   "outputs": [],
   "source": [
    "test = [\"12335\", \"45566\", \"$\", \"4666$\", \"463211\", \"vvvvv4$\", \"sksgmskmg\"]\n",
    "test = str(test)"
   ]
  },
  {
   "cell_type": "code",
   "execution_count": 16,
   "metadata": {},
   "outputs": [
    {
     "data": {
      "text/plain": [
       "['4666$', '4$']"
      ]
     },
     "execution_count": 16,
     "metadata": {},
     "output_type": "execute_result"
    }
   ],
   "source": [
    "re.findall(\"[0-9]+\\$\", test)"
   ]
  },
  {
   "cell_type": "markdown",
   "metadata": {},
   "source": [
    "#### \\b[a-z]{1,4}\\b"
   ]
  },
  {
   "cell_type": "code",
   "execution_count": 30,
   "metadata": {},
   "outputs": [
    {
     "name": "stdout",
     "output_type": "stream",
     "text": [
      "['edzikz', 'skvu', 'nmtzb', 'pr', 'au']\n"
     ]
    }
   ],
   "source": [
    "letters = string.ascii_lowercase\n",
    "str_length = 6\n",
    "n = 5\n",
    "words = []\n",
    "\n",
    "#Generate words of various length no more than 6\n",
    "for s in range(n):\n",
    "    words.append(''.join(random.choice(letters) for i in range(random.randint(1, str_length))))\n",
    "print(words)"
   ]
  },
  {
   "cell_type": "code",
   "execution_count": 32,
   "metadata": {},
   "outputs": [
    {
     "data": {
      "text/plain": [
       "['skvu', 'pr', 'au']"
      ]
     },
     "execution_count": 32,
     "metadata": {},
     "output_type": "execute_result"
    }
   ],
   "source": [
    "words = str(words)\n",
    "re.findall(\"\\\\b[a-z]{1,4}\\\\b\", words)"
   ]
  },
  {
   "cell_type": "markdown",
   "metadata": {},
   "source": [
    "#### .*?\\.txt$"
   ]
  },
  {
   "cell_type": "code",
   "execution_count": 47,
   "metadata": {},
   "outputs": [
    {
     "data": {
      "text/plain": [
       "[]"
      ]
     },
     "execution_count": 47,
     "metadata": {},
     "output_type": "execute_result"
    }
   ],
   "source": [
    "sometext = [\"a.txt\", \"thisproject23.txt\", \"help.com\"]\n",
    "sometext = str(sometext)\n",
    "\n",
    "re.findall(\".*?\\\\.txt$\", sometext)"
   ]
  },
  {
   "cell_type": "markdown",
   "metadata": {},
   "source": [
    "#### \\\\d{2}/\\\\d{2}/\\\\d{4}"
   ]
  },
  {
   "cell_type": "code",
   "execution_count": 37,
   "metadata": {},
   "outputs": [
    {
     "data": {
      "text/plain": [
       "['02/22/2019']"
      ]
     },
     "execution_count": 37,
     "metadata": {},
     "output_type": "execute_result"
    }
   ],
   "source": [
    "dates = [\"02/22/2019\", \"ab/cd/efhi\", \"1a-55-4789\", \"02-22-2019\"]\n",
    "dates = str(dates)\n",
    "\n",
    "re.findall(\"\\\\d{2}/\\\\d{2}/\\\\d{4}\", dates)"
   ]
  },
  {
   "cell_type": "markdown",
   "metadata": {},
   "source": [
    "#### <(.+?)>.+?</\\\\1>"
   ]
  },
  {
   "cell_type": "code",
   "execution_count": 45,
   "metadata": {},
   "outputs": [
    {
     "data": {
      "text/plain": [
       "['div', 'noscript']"
      ]
     },
     "execution_count": 45,
     "metadata": {},
     "output_type": "execute_result"
    }
   ],
   "source": [
    "code = [\"<div> </div>\", \"<noscript>...</noscript>\", \"<div></noscript>\"]\n",
    "code = str(code)\n",
    "\n",
    "re.findall(\"<(.+?)>.+?</\\\\1>\", code)"
   ]
  },
  {
   "cell_type": "markdown",
   "metadata": {},
   "source": [
    "### Bonus\n",
    "\n",
    "The following code hides a secret message. Crack it with Python and regular expressions. Hint: Some of the characters are more revealing than others!"
   ]
  },
  {
   "cell_type": "code",
   "execution_count": 53,
   "metadata": {},
   "outputs": [
    {
     "name": "stdout",
     "output_type": "stream",
     "text": [
      "['C', 'O', 'N', 'G', 'R', 'A', 'T', ' U', 'L', 'AT', 'I', 'O', 'N', 'S', '.', 'Y', 'O ', 'U', '.', 'A', 'R', 'E', '.', 'A', '.S', 'U', 'P', 'E', 'R', ' ', 'N', 'E', 'R', 'D', '!']\n"
     ]
    }
   ],
   "source": [
    "secret = \"clcopCow1zmstc0d87wnkig7OvdicpNuggvhryn92Gjuwczi8hqrfpRxs5Aj5dwpn0Tanwo Uwisdij7Lj8kpf03AT5Idr3coc0bt7yczjatOaootj55t3Nj3ne6c4Sfek.r1w1YwwojigO d6vrfUrbz2.2bkAnbhzgv4R9i05zEcrop.wAgnb.SqoU65fPa1otfb7wEm24k6t3sR9zqe5 fy89n6Nd5t9kc4fE905gmc4Rgxo5nhDk!gr\"\n",
    "secret_1 = re.findall(\"[A-Z\\W]+\", secret)\n",
    "print(secret_1)\n",
    "secret_1 = str(secret_1)"
   ]
  },
  {
   "cell_type": "code",
   "execution_count": 59,
   "metadata": {},
   "outputs": [
    {
     "data": {
      "text/plain": [
       "[\"['C','O','N','G','R','A','T','U','L','AT','I','O','N','S','\",\n",
       " \"','Y','O','U','\",\n",
       " \"','A','R','E','\",\n",
       " \"','A','\",\n",
       " \"S','U','P','E','R','','N','E','R','D','!']\"]"
      ]
     },
     "execution_count": 59,
     "metadata": {},
     "output_type": "execute_result"
    }
   ],
   "source": [
    "secret_2 = re.sub(\" \", \"\", secret_1)\n",
    "secret_2\n",
    "\n",
    "re.split(r'\\.', secret_2)"
   ]
  }
 ],
 "metadata": {
  "kernelspec": {
   "display_name": "Python 3",
   "language": "python",
   "name": "python3"
  },
  "language_info": {
   "codemirror_mode": {
    "name": "ipython",
    "version": 3
   },
   "file_extension": ".py",
   "mimetype": "text/x-python",
   "name": "python",
   "nbconvert_exporter": "python",
   "pygments_lexer": "ipython3",
   "version": "3.7.3"
  }
 },
 "nbformat": 4,
 "nbformat_minor": 2
}
