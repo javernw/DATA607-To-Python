{
 "cells": [
  {
   "cell_type": "markdown",
   "metadata": {},
   "source": [
    "# Task: Pick three of your favorite books on one of your favorite subjects. At least one of the books should have more than one author. For each book, include the title, authors, and two or three other attributes that you find interesting. Take the information that you’ve selected about these three books, and separately create three files which store the book’s information in HTML (using an html table), XML, and JSON formats (e.g. “books.html”, “books.xml”, and “books.json”)."
   ]
  },
  {
   "cell_type": "code",
   "execution_count": 1,
   "metadata": {},
   "outputs": [],
   "source": [
    "import pandas as pd\n",
    "import requests\n",
    "from bs4 import BeautifulSoup\n",
    "import xml.etree.ElementTree as ET\n",
    "import json"
   ]
  },
  {
   "cell_type": "markdown",
   "metadata": {},
   "source": [
    "## HTML"
   ]
  },
  {
   "cell_type": "code",
   "execution_count": 21,
   "metadata": {
    "scrolled": true
   },
   "outputs": [
    {
     "name": "stdout",
     "output_type": "stream",
     "text": [
      "<!DOCTYPE html>\n",
      "\n",
      "<html>\n",
      "<head>\n",
      "<title>Subject Books</title>\n",
      "</head>\n",
      "<style>\r\n",
      "table {\r\n",
      "  border-collapse: collapse;\r\n",
      "}\r\n",
      "table, th, td {\r\n",
      "   border: 1px solid black;\r\n",
      "   text-align: left;\r\n",
      "}\r\n",
      "td {\r\n",
      "  height: 50px;\r\n",
      "}\r\n",
      "</style>\n",
      "<body>\n",
      "<table>\n",
      "<tr>\n",
      "<th width=\"30%\">Title</th>\n",
      "<th width=\"30%\">Author(s)</th>\n",
      "<th width=\"10%\">Edition</th>\n",
      "<th width=\"15%\">Publisher</th>\n",
      "<th width=\"15%\">Date Published</th>\n",
      "</tr>\n",
      "<tr>\n",
      "<td>OpenIntro Statistics</td>\n",
      "<td>David M Diez, Christopher D Barr, Mine Çetinkaya-Rundel</td>\n",
      "<td>Third</td>\n",
      "<td>OpenIntro, Inc.</td>\n",
      "<td>07/02/2015<td>\n",
      "</td></td></tr>\n",
      "<tr>\n",
      "<td>R for Everyone: Advanced Analytics and Graphics</td>\n",
      "<td>Jared P. Lander</td>\n",
      "<td>Second</td>\n",
      "<td> Addison-Wesley Professional</td>\n",
      "<td>06/18/2017</td>\n",
      "</tr>\n",
      "<tr>\n",
      "<td>Automated Data Collection with R A Practical Guide to Web Scraping and Text Mining</td>\n",
      "<td>Simon Munzert, Christian Rubba, Peter Meißner, Dominic Nyhuis</td>\n",
      "<td>First</td>\n",
      "<td>Wiley</td>\n",
      "<td>01/20/2015</td>\n",
      "</tr>\n",
      "</table></body>\n",
      "</html>\n"
     ]
    }
   ],
   "source": [
    "html_url= 'https://github.com/javernw/JWCUNYAssignments/blob/master/books.html'\n",
    "html_url_raw = 'https://raw.githubusercontent.com/javernw/JWCUNYAssignments/master/books.html'\n",
    "html_file = requests.get(html_url)\n",
    "html_file_raw = requests.get(html_url_raw)\n",
    "books_raw = BeautifulSoup(html_file_raw.content, 'html.parser')\n",
    "books = BeautifulSoup(html_file.content, 'html.parser')\n",
    "print(books_raw)\n"
   ]
  },
  {
   "cell_type": "code",
   "execution_count": 22,
   "metadata": {},
   "outputs": [
    {
     "data": {
      "text/html": [
       "<div>\n",
       "<style scoped>\n",
       "    .dataframe tbody tr th:only-of-type {\n",
       "        vertical-align: middle;\n",
       "    }\n",
       "\n",
       "    .dataframe tbody tr th {\n",
       "        vertical-align: top;\n",
       "    }\n",
       "\n",
       "    .dataframe thead th {\n",
       "        text-align: right;\n",
       "    }\n",
       "</style>\n",
       "<table border=\"1\" class=\"dataframe\">\n",
       "  <thead>\n",
       "    <tr style=\"text-align: right;\">\n",
       "      <th></th>\n",
       "      <th>Title</th>\n",
       "      <th>Author(s)</th>\n",
       "      <th>Edition</th>\n",
       "      <th>Publisher</th>\n",
       "      <th>Date Published</th>\n",
       "    </tr>\n",
       "  </thead>\n",
       "  <tbody>\n",
       "    <tr>\n",
       "      <th>0</th>\n",
       "      <td>OpenIntro Statistics</td>\n",
       "      <td>David M Diez, Christopher D Barr, Mine Çetinka...</td>\n",
       "      <td>Third</td>\n",
       "      <td>OpenIntro, Inc.</td>\n",
       "      <td>07/02/2015</td>\n",
       "    </tr>\n",
       "    <tr>\n",
       "      <th>1</th>\n",
       "      <td>R for Everyone: Advanced Analytics and Graphics</td>\n",
       "      <td>Jared P. Lander</td>\n",
       "      <td>Second</td>\n",
       "      <td>Addison-Wesley Professional</td>\n",
       "      <td>06/18/2017</td>\n",
       "    </tr>\n",
       "    <tr>\n",
       "      <th>2</th>\n",
       "      <td>Automated Data Collection with R A Practical G...</td>\n",
       "      <td>Simon Munzert, Christian Rubba, Peter Meißner,...</td>\n",
       "      <td>First</td>\n",
       "      <td>Wiley</td>\n",
       "      <td>01/20/2015</td>\n",
       "    </tr>\n",
       "  </tbody>\n",
       "</table>\n",
       "</div>"
      ],
      "text/plain": [
       "                                               Title  \\\n",
       "0                               OpenIntro Statistics   \n",
       "1    R for Everyone: Advanced Analytics and Graphics   \n",
       "2  Automated Data Collection with R A Practical G...   \n",
       "\n",
       "                                           Author(s) Edition  \\\n",
       "0  David M Diez, Christopher D Barr, Mine Çetinka...   Third   \n",
       "1                                    Jared P. Lander  Second   \n",
       "2  Simon Munzert, Christian Rubba, Peter Meißner,...   First   \n",
       "\n",
       "                     Publisher Date Published  \n",
       "0              OpenIntro, Inc.     07/02/2015  \n",
       "1  Addison-Wesley Professional     06/18/2017  \n",
       "2                        Wiley     01/20/2015  "
      ]
     },
     "execution_count": 22,
     "metadata": {},
     "output_type": "execute_result"
    }
   ],
   "source": [
    "books_html = pd.read_html(books.text)[0]\n",
    "books_html = books_html.drop(columns = 'Unnamed: 5')\n",
    "books_html"
   ]
  },
  {
   "cell_type": "markdown",
   "metadata": {},
   "source": [
    "## XML"
   ]
  },
  {
   "cell_type": "code",
   "execution_count": 23,
   "metadata": {},
   "outputs": [
    {
     "name": "stdout",
     "output_type": "stream",
     "text": [
      "<?xml version=\"1.0\" encoding=\"UTF-8\"?><html><body><fav_books>\n",
      "<books>\n",
      "<title>OpenIntro Statistics</title>\n",
      "<authors>David M Diez, Christopher D Barr, Mine Çetinkaya-Rundel</authors>\n",
      "<edition>Third</edition>\n",
      "<publisher>OpenIntro, Inc.</publisher>\n",
      "<date_published>07/02/2015</date_published>\n",
      "</books>\n",
      "<books>\n",
      "<title>R for Everyone: Advanced Analytics and Graphics</title>\n",
      "<authors>Jared P. Lander</authors>\n",
      "<edition>Second</edition>\n",
      "<publisher>Addison-Wesley Professional</publisher>\n",
      "<date_published>06/18/2017</date_published>\n",
      "</books>\n",
      "<books>\n",
      "<title>Automated Data Collection with R A Practical Guide to Web Scraping and Text Mining</title>\n",
      "<authors>Simon Munzert, Christian Rubba, Peter Meißner, Dominic Nyhuis</authors>\n",
      "<edition>First</edition>\n",
      "<publisher>Wiley</publisher>\n",
      "<date_published>01/20/2015</date_published>\n",
      "</books>\n",
      "</fav_books>\n",
      "</body></html>\n"
     ]
    }
   ],
   "source": [
    "#use ET.parse when reading file from disk\n",
    "#use ET.fromstring when reading from string\n",
    "\n",
    "xml_url  = 'https://raw.githubusercontent.com/javernw/JWCUNYAssignments/master/books.xml'\n",
    "xml_file = requests.get(xml_url)\n",
    "xml_data = BeautifulSoup(xml_file.content, 'lxml')\n",
    "print(xml_data)"
   ]
  },
  {
   "cell_type": "code",
   "execution_count": 24,
   "metadata": {},
   "outputs": [
    {
     "data": {
      "text/html": [
       "<div>\n",
       "<style scoped>\n",
       "    .dataframe tbody tr th:only-of-type {\n",
       "        vertical-align: middle;\n",
       "    }\n",
       "\n",
       "    .dataframe tbody tr th {\n",
       "        vertical-align: top;\n",
       "    }\n",
       "\n",
       "    .dataframe thead th {\n",
       "        text-align: right;\n",
       "    }\n",
       "</style>\n",
       "<table border=\"1\" class=\"dataframe\">\n",
       "  <thead>\n",
       "    <tr style=\"text-align: right;\">\n",
       "      <th></th>\n",
       "      <th>Title</th>\n",
       "      <th>Author(s)</th>\n",
       "      <th>Edition</th>\n",
       "      <th>Publisher</th>\n",
       "      <th>Date Published</th>\n",
       "    </tr>\n",
       "  </thead>\n",
       "  <tbody>\n",
       "    <tr>\n",
       "      <th>0</th>\n",
       "      <td>OpenIntro Statistics</td>\n",
       "      <td>David M Diez, Christopher D Barr, Mine Çetinka...</td>\n",
       "      <td>Third</td>\n",
       "      <td>OpenIntro, Inc.</td>\n",
       "      <td>07/02/2015</td>\n",
       "    </tr>\n",
       "    <tr>\n",
       "      <th>1</th>\n",
       "      <td>R for Everyone: Advanced Analytics and Graphics</td>\n",
       "      <td>Jared P. Lander</td>\n",
       "      <td>Second</td>\n",
       "      <td>Addison-Wesley Professional</td>\n",
       "      <td>06/18/2017</td>\n",
       "    </tr>\n",
       "    <tr>\n",
       "      <th>2</th>\n",
       "      <td>Automated Data Collection with R A Practical G...</td>\n",
       "      <td>Simon Munzert, Christian Rubba, Peter Meißner,...</td>\n",
       "      <td>First</td>\n",
       "      <td>Wiley</td>\n",
       "      <td>01/20/2015</td>\n",
       "    </tr>\n",
       "  </tbody>\n",
       "</table>\n",
       "</div>"
      ],
      "text/plain": [
       "                                               Title  \\\n",
       "0                               OpenIntro Statistics   \n",
       "1    R for Everyone: Advanced Analytics and Graphics   \n",
       "2  Automated Data Collection with R A Practical G...   \n",
       "\n",
       "                                           Author(s) Edition  \\\n",
       "0  David M Diez, Christopher D Barr, Mine Çetinka...   Third   \n",
       "1                                    Jared P. Lander  Second   \n",
       "2  Simon Munzert, Christian Rubba, Peter Meißner,...   First   \n",
       "\n",
       "                     Publisher Date Published  \n",
       "0              OpenIntro, Inc.     07/02/2015  \n",
       "1  Addison-Wesley Professional     06/18/2017  \n",
       "2                        Wiley     01/20/2015  "
      ]
     },
     "execution_count": 24,
     "metadata": {},
     "output_type": "execute_result"
    }
   ],
   "source": [
    "root = ET.fromstring(xml_file.content)\n",
    "\n",
    "title=[]\n",
    "for t in root.findall('books/title'):\n",
    "    title.append(t.text)\n",
    "    \n",
    "authors = []\n",
    "for a in root.findall('books/authors'):\n",
    "    authors.append(a.text)\n",
    "    \n",
    "edition = []\n",
    "for ed in root.findall('books/edition'):\n",
    "    edition.append(ed.text)\n",
    "    \n",
    "pub = []\n",
    "for p in root.findall('books/publisher'):\n",
    "    pub.append(p.text)\n",
    "    \n",
    "date_pub = []\n",
    "for dp in root.findall('books/date_published'):\n",
    "    date_pub.append(dp.text)\n",
    "    \n",
    "# put together table and display content\n",
    "books_xml = pd.DataFrame(list(zip(title, authors, edition, pub, date_pub)), columns =['Title', 'Author(s)', 'Edition', 'Publisher', 'Date Published'])\n",
    "books_xml"
   ]
  },
  {
   "cell_type": "markdown",
   "metadata": {},
   "source": [
    "## JSON"
   ]
  },
  {
   "cell_type": "code",
   "execution_count": 25,
   "metadata": {},
   "outputs": [
    {
     "data": {
      "text/plain": [
       "{'favorite books': [{'title': 'OpenIntro Statistics',\n",
       "   'authors': 'David M Diez, Christopher D Barr, Mine Cetinkaya-Rundel',\n",
       "   'edition': 'Third',\n",
       "   'publisher': 'OpenIntro, Inc.',\n",
       "   'date_published': '07/02/2015'},\n",
       "  {'title': 'R for Everyone: Advanced Analytics and Graphics',\n",
       "   'authors': 'Jared P. Lander',\n",
       "   'edition': 'Second',\n",
       "   'publisher': 'Addison-Wesley Professional',\n",
       "   'date_published': '06/18/2017'},\n",
       "  {'title': 'Automated Data Collection with R A Practical Guide to Web Scraping and Text Mining',\n",
       "   'authors': 'Simon Munzert, Christian Rubba, Peter Meibner, Dominic Nyhuis',\n",
       "   'edition': 'First',\n",
       "   'publisher': 'Wiley',\n",
       "   'date_published': '01/20/2015'}]}"
      ]
     },
     "execution_count": 25,
     "metadata": {},
     "output_type": "execute_result"
    }
   ],
   "source": [
    "json_url = 'https://raw.githubusercontent.com/javernw/JWCUNYAssignments/master/books.json'\n",
    "json_file = requests.get(json_url)\n",
    "json_data = json_file.json()\n",
    "json_data"
   ]
  },
  {
   "cell_type": "code",
   "execution_count": 26,
   "metadata": {
    "scrolled": true
   },
   "outputs": [
    {
     "data": {
      "text/html": [
       "<div>\n",
       "<style scoped>\n",
       "    .dataframe tbody tr th:only-of-type {\n",
       "        vertical-align: middle;\n",
       "    }\n",
       "\n",
       "    .dataframe tbody tr th {\n",
       "        vertical-align: top;\n",
       "    }\n",
       "\n",
       "    .dataframe thead th {\n",
       "        text-align: right;\n",
       "    }\n",
       "</style>\n",
       "<table border=\"1\" class=\"dataframe\">\n",
       "  <thead>\n",
       "    <tr style=\"text-align: right;\">\n",
       "      <th></th>\n",
       "      <th>Title</th>\n",
       "      <th>Author(s)</th>\n",
       "      <th>Edition</th>\n",
       "      <th>Publisher</th>\n",
       "      <th>Date Published</th>\n",
       "    </tr>\n",
       "  </thead>\n",
       "  <tbody>\n",
       "    <tr>\n",
       "      <th>0</th>\n",
       "      <td>OpenIntro Statistics</td>\n",
       "      <td>David M Diez, Christopher D Barr, Mine Cetinka...</td>\n",
       "      <td>Third</td>\n",
       "      <td>OpenIntro, Inc.</td>\n",
       "      <td>07/02/2015</td>\n",
       "    </tr>\n",
       "    <tr>\n",
       "      <th>1</th>\n",
       "      <td>R for Everyone: Advanced Analytics and Graphics</td>\n",
       "      <td>Jared P. Lander</td>\n",
       "      <td>Second</td>\n",
       "      <td>Addison-Wesley Professional</td>\n",
       "      <td>06/18/2017</td>\n",
       "    </tr>\n",
       "    <tr>\n",
       "      <th>2</th>\n",
       "      <td>Automated Data Collection with R A Practical G...</td>\n",
       "      <td>Simon Munzert, Christian Rubba, Peter Meibner,...</td>\n",
       "      <td>First</td>\n",
       "      <td>Wiley</td>\n",
       "      <td>01/20/2015</td>\n",
       "    </tr>\n",
       "  </tbody>\n",
       "</table>\n",
       "</div>"
      ],
      "text/plain": [
       "                                               Title  \\\n",
       "0                               OpenIntro Statistics   \n",
       "1    R for Everyone: Advanced Analytics and Graphics   \n",
       "2  Automated Data Collection with R A Practical G...   \n",
       "\n",
       "                                           Author(s) Edition  \\\n",
       "0  David M Diez, Christopher D Barr, Mine Cetinka...   Third   \n",
       "1                                    Jared P. Lander  Second   \n",
       "2  Simon Munzert, Christian Rubba, Peter Meibner,...   First   \n",
       "\n",
       "                     Publisher Date Published  \n",
       "0              OpenIntro, Inc.     07/02/2015  \n",
       "1  Addison-Wesley Professional     06/18/2017  \n",
       "2                        Wiley     01/20/2015  "
      ]
     },
     "execution_count": 26,
     "metadata": {},
     "output_type": "execute_result"
    }
   ],
   "source": [
    "books_json = pd.DataFrame(json_data['favorite books'])\n",
    "books_json = books_json[['title', 'authors', 'edition', 'publisher', 'date_published']] #rearrange columns\n",
    "books_json.columns = ['Title', 'Author(s)', 'Edition', 'Publisher', 'Date Published']\n",
    "books_json"
   ]
  }
 ],
 "metadata": {
  "kernelspec": {
   "display_name": "Python 3",
   "language": "python",
   "name": "python3"
  },
  "language_info": {
   "codemirror_mode": {
    "name": "ipython",
    "version": 3
   },
   "file_extension": ".py",
   "mimetype": "text/x-python",
   "name": "python",
   "nbconvert_exporter": "python",
   "pygments_lexer": "ipython3",
   "version": "3.7.3"
  }
 },
 "nbformat": 4,
 "nbformat_minor": 2
}
